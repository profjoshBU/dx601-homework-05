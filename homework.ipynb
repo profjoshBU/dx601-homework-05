{
  "cells": [
    {
      "cell_type": "markdown",
      "metadata": {
        "id": "gNth75xDPtzQ"
      },
      "source": [
        "# DX 601 Week 5 Homework"
      ]
    },
    {
      "cell_type": "markdown",
      "metadata": {
        "id": "VNAEhPgUIGSa"
      },
      "source": [
        "## Introduction\n",
        "\n",
        "In this homework, you will practice working random variables and estimating their parameters.\n",
        "\n",
        "The focus on these problems is on your understanding of the math, not the programming.\n",
        "Some of the data sets will be small enough that you can look at the data and calculate the answer in your head.\n",
        "That is acceptable, though we encourage you to also think about how to write code to perform the same calculation for you.\n",
        "We will work with larger data sets and provide more code examples for you as this class progress."
      ]
    },
    {
      "cell_type": "markdown",
      "metadata": {
        "id": "cymZzbccIOC8"
      },
      "source": [
        "## Example Code\n",
        "\n",
        "You may find it helpful to refer to these GitHub repositories of Jupyter notebooks for example code.\n",
        "\n",
        "* https://github.com/bu-cds-omds/dx500-examples\n",
        "* https://github.com/bu-cds-omds/dx601-examples\n",
        "* https://github.com/bu-cds-omds/dx602-examples\n",
        "\n",
        "Any calculations demonstrated in code examples or videos may be found in these notebooks, and you are allowed to copy this example code in your homework answers."
      ]
    },
    {
      "cell_type": "markdown",
      "metadata": {
        "id": "mRE4xW4QlRH-"
      },
      "source": [
        "## Shared Imports\n",
        "\n",
        "Do not install or use any additional modules.\n",
        "Installing additional modules may result in an autograder failure resulting in zero points for some or all problems."
      ]
    },
    {
      "cell_type": "code",
      "execution_count": 1,
      "metadata": {
        "id": "5yUvvDLwlSVb"
      },
      "outputs": [],
      "source": [
        "import math\n",
        "import random\n",
        "\n",
        "import matplotlib.pyplot as plt\n",
        "import numpy as np\n",
        "import pandas as pd\n",
        "import sklearn.linear_model"
      ]
    },
    {
      "cell_type": "markdown",
      "metadata": {
        "id": "07BtczTwIRLQ"
      },
      "source": [
        "## Problems"
      ]
    },
    {
      "cell_type": "markdown",
      "metadata": {},
      "source": [
        "### Problem 1\n",
        "\n",
        "The variable `q1` below has data for a probability distribution.\n",
        "The keys of `q1` are supposed to be ratings from 1 to 5 and the values are supposed to be the probabilities of each rating.\n",
        "However, the data for the rating of 5 is missing.\n",
        "Set `p1` to be the probability of rating 5 assuming that the probabilities for 1 to 4 are correct."
      ]
    },
    {
      "cell_type": "code",
      "execution_count": null,
      "metadata": {},
      "outputs": [],
      "source": [
        "q1 = {1: 0.32, 2: 0.22, 3: 0.12, 4: 0.1}"
      ]
    },
    {
      "cell_type": "code",
      "execution_count": 2,
      "metadata": {},
      "outputs": [],
      "source": [
        "# YOUR CHANGES HERE\n",
        "\n",
        "p1 = 1-0.32-0.22-0.12-0.1"
      ]
    },
    {
      "cell_type": "markdown",
      "metadata": {},
      "source": [
        "Check the value of `p1`."
      ]
    },
    {
      "cell_type": "code",
      "execution_count": 3,
      "metadata": {},
      "outputs": [
        {
          "data": {
            "text/plain": [
              "0.23999999999999996"
            ]
          },
          "execution_count": 3,
          "metadata": {},
          "output_type": "execute_result"
        }
      ],
      "source": [
        "p1"
      ]
    },
    {
      "cell_type": "markdown",
      "metadata": {},
      "source": [
        "### Problem 2\n",
        "\n",
        "The variable `q2` below has data for a probability distribution.\n",
        "The keys of `q2` are integer ratings from 1 to 5 and the values are the probabilities of each rating.\n",
        "Set `p2` to the average rating based on `q2`."
      ]
    },
    {
      "cell_type": "code",
      "execution_count": 4,
      "metadata": {},
      "outputs": [],
      "source": [
        "q2 = {1 : 0.11, 2: 0.18, 3: 0.35, 4: 0.24, 5: 0.12}"
      ]
    },
    {
      "cell_type": "code",
      "execution_count": null,
      "metadata": {},
      "outputs": [],
      "source": [
        "# YOUR CHANGES HERE\n",
        "\n",
        "p2 = 1*0.11 + 2*0.18 + 3*0.35 + 4*0.24 + 5*0.12"
      ]
    },
    {
      "cell_type": "markdown",
      "metadata": {},
      "source": [
        "Check the value of `p2`."
      ]
    },
    {
      "cell_type": "code",
      "execution_count": 6,
      "metadata": {},
      "outputs": [
        {
          "data": {
            "text/plain": [
              "3.0799999999999996"
            ]
          },
          "execution_count": 6,
          "metadata": {},
          "output_type": "execute_result"
        }
      ],
      "source": [
        "p2"
      ]
    },
    {
      "cell_type": "markdown",
      "metadata": {
        "id": "J5s_YDzOIaYW"
      },
      "source": [
        "### Problem 3\n",
        "\n",
        "Set `p3` to the sample probability that the rated flavor is at least 3 in `q3`."
      ]
    },
    {
      "cell_type": "code",
      "execution_count": 7,
      "metadata": {},
      "outputs": [
        {
          "data": {
            "text/html": [
              "<div>\n",
              "<style scoped>\n",
              "    .dataframe tbody tr th:only-of-type {\n",
              "        vertical-align: middle;\n",
              "    }\n",
              "\n",
              "    .dataframe tbody tr th {\n",
              "        vertical-align: top;\n",
              "    }\n",
              "\n",
              "    .dataframe thead th {\n",
              "        text-align: right;\n",
              "    }\n",
              "</style>\n",
              "<table border=\"1\" class=\"dataframe\">\n",
              "  <thead>\n",
              "    <tr style=\"text-align: right;\">\n",
              "      <th></th>\n",
              "      <th>green_rating</th>\n",
              "      <th>yellow_rating</th>\n",
              "      <th>softness</th>\n",
              "      <th>wrinkles</th>\n",
              "      <th>estimated_flavor</th>\n",
              "      <th>estimated_sweetness</th>\n",
              "      <th>rated_flavor</th>\n",
              "    </tr>\n",
              "  </thead>\n",
              "  <tbody>\n",
              "    <tr>\n",
              "      <th>0</th>\n",
              "      <td>1</td>\n",
              "      <td>5</td>\n",
              "      <td>4</td>\n",
              "      <td>0</td>\n",
              "      <td>4</td>\n",
              "      <td>4</td>\n",
              "      <td>5</td>\n",
              "    </tr>\n",
              "    <tr>\n",
              "      <th>1</th>\n",
              "      <td>1</td>\n",
              "      <td>5</td>\n",
              "      <td>5</td>\n",
              "      <td>1</td>\n",
              "      <td>5</td>\n",
              "      <td>5</td>\n",
              "      <td>1</td>\n",
              "    </tr>\n",
              "    <tr>\n",
              "      <th>2</th>\n",
              "      <td>2</td>\n",
              "      <td>4</td>\n",
              "      <td>3</td>\n",
              "      <td>1</td>\n",
              "      <td>3</td>\n",
              "      <td>3</td>\n",
              "      <td>3</td>\n",
              "    </tr>\n",
              "    <tr>\n",
              "      <th>3</th>\n",
              "      <td>3</td>\n",
              "      <td>3</td>\n",
              "      <td>2</td>\n",
              "      <td>0</td>\n",
              "      <td>2</td>\n",
              "      <td>1</td>\n",
              "      <td>2</td>\n",
              "    </tr>\n",
              "    <tr>\n",
              "      <th>4</th>\n",
              "      <td>5</td>\n",
              "      <td>1</td>\n",
              "      <td>1</td>\n",
              "      <td>1</td>\n",
              "      <td>1</td>\n",
              "      <td>1</td>\n",
              "      <td>1</td>\n",
              "    </tr>\n",
              "    <tr>\n",
              "      <th>5</th>\n",
              "      <td>4</td>\n",
              "      <td>2</td>\n",
              "      <td>1</td>\n",
              "      <td>1</td>\n",
              "      <td>1</td>\n",
              "      <td>1</td>\n",
              "      <td>1</td>\n",
              "    </tr>\n",
              "    <tr>\n",
              "      <th>6</th>\n",
              "      <td>5</td>\n",
              "      <td>1</td>\n",
              "      <td>1</td>\n",
              "      <td>1</td>\n",
              "      <td>2</td>\n",
              "      <td>1</td>\n",
              "      <td>1</td>\n",
              "    </tr>\n",
              "    <tr>\n",
              "      <th>7</th>\n",
              "      <td>3</td>\n",
              "      <td>3</td>\n",
              "      <td>2</td>\n",
              "      <td>1</td>\n",
              "      <td>2</td>\n",
              "      <td>2</td>\n",
              "      <td>2</td>\n",
              "    </tr>\n",
              "  </tbody>\n",
              "</table>\n",
              "</div>"
            ],
            "text/plain": [
              "   green_rating  yellow_rating  softness  wrinkles  estimated_flavor  \\\n",
              "0             1              5         4         0                 4   \n",
              "1             1              5         5         1                 5   \n",
              "2             2              4         3         1                 3   \n",
              "3             3              3         2         0                 2   \n",
              "4             5              1         1         1                 1   \n",
              "5             4              2         1         1                 1   \n",
              "6             5              1         1         1                 2   \n",
              "7             3              3         2         1                 2   \n",
              "\n",
              "   estimated_sweetness  rated_flavor  \n",
              "0                    4             5  \n",
              "1                    5             1  \n",
              "2                    3             3  \n",
              "3                    1             2  \n",
              "4                    1             1  \n",
              "5                    1             1  \n",
              "6                    1             1  \n",
              "7                    2             2  "
            ]
          },
          "execution_count": 7,
          "metadata": {},
          "output_type": "execute_result"
        }
      ],
      "source": [
        "# DO NOT CHANGE\n",
        "\n",
        "q3 = pd.read_csv(\"mango-tiny.tsv\", sep=\"\\t\")\n",
        "q3"
      ]
    },
    {
      "cell_type": "code",
      "execution_count": 8,
      "metadata": {},
      "outputs": [],
      "source": [
        "# YOUR CHANGES HERE\n",
        "\n",
        "p3 = 2/8"
      ]
    },
    {
      "cell_type": "markdown",
      "metadata": {},
      "source": [
        "Check the value of `p3`."
      ]
    },
    {
      "cell_type": "code",
      "execution_count": 9,
      "metadata": {},
      "outputs": [
        {
          "data": {
            "text/plain": [
              "0.25"
            ]
          },
          "execution_count": 9,
          "metadata": {},
          "output_type": "execute_result"
        }
      ],
      "source": [
        "p3"
      ]
    },
    {
      "cell_type": "markdown",
      "metadata": {
        "id": "kWZScrvzIh0c"
      },
      "source": [
        "### Problem 4\n",
        "\n",
        "Set `p4` to the probability of sampling the exact sequence of values in `q4` assuming that it is a Boolean random variable which is True with probability 0.9.\n"
      ]
    },
    {
      "cell_type": "code",
      "execution_count": 27,
      "metadata": {},
      "outputs": [],
      "source": [
        "# DO NOT CHANGE\n",
        "\n",
        "q4 = [False, False, True, True, True, True, True, True, True, False]"
      ]
    },
    {
      "cell_type": "code",
      "execution_count": 11,
      "metadata": {},
      "outputs": [],
      "source": [
        "# YOUR CHANGES HERE\n",
        "\n",
        "p4 = (0.1**3)* (0.9**7)"
      ]
    },
    {
      "cell_type": "code",
      "execution_count": 12,
      "metadata": {},
      "outputs": [
        {
          "data": {
            "text/plain": [
              "0.0004782969000000002"
            ]
          },
          "execution_count": 12,
          "metadata": {},
          "output_type": "execute_result"
        }
      ],
      "source": [
        "p4"
      ]
    },
    {
      "cell_type": "markdown",
      "metadata": {
        "id": "RpywPjcnIhgt"
      },
      "source": [
        "### Problem 5\n",
        "\n",
        "`q5` was populated with samples of a Boolean random variable with an unknown probability.\n",
        "Set `p5` to the best estimate for that probability based on the sample in `q5`."
      ]
    },
    {
      "cell_type": "code",
      "execution_count": 30,
      "metadata": {},
      "outputs": [],
      "source": [
        "# DO NOT CHANGE\n",
        "\n",
        "q5 = [ True,  True,  True,  True, False,  True, False,  True,  True,\n",
        "        True,  True,  True,  True,  True,  True,  True,  True,  True,\n",
        "        True,  True]"
      ]
    },
    {
      "cell_type": "code",
      "execution_count": 13,
      "metadata": {},
      "outputs": [],
      "source": [
        "# YOUR CHANGES HERE\n",
        "\n",
        "p5 = 18/20"
      ]
    },
    {
      "cell_type": "code",
      "execution_count": 14,
      "metadata": {},
      "outputs": [
        {
          "data": {
            "text/plain": [
              "0.9"
            ]
          },
          "execution_count": 14,
          "metadata": {},
          "output_type": "execute_result"
        }
      ],
      "source": [
        "p5"
      ]
    },
    {
      "cell_type": "markdown",
      "metadata": {},
      "source": [
        "### Problem 6\n",
        "\n",
        "The variable `q6` has a probability where the keys are different events and the values are the probabilities of those events.\n",
        "Set `p6` to be the entropy of that probability distribution using base 2 for the logarithm.\n",
        "\n"
      ]
    },
    {
      "cell_type": "code",
      "execution_count": 15,
      "metadata": {},
      "outputs": [],
      "source": [
        "q6 = {\n",
        "    \"robot uprising\": 0.2,\n",
        "    \"politician uprising\": 0.1,\n",
        "    \"it rains but only on Boston\": 0.3,\n",
        "    \"the class votes for ghost peppers\": 0.01,\n",
        "    \"a pretty normal day\": 0.39,\n",
        "}"
      ]
    },
    {
      "cell_type": "code",
      "execution_count": 18,
      "metadata": {},
      "outputs": [],
      "source": [
        "# YOUR CHANGES HERE\n",
        "\n",
        "p6 =-1*(0.2 * math.log(0.2,2) + 0.1 * math.log(0.1,2) + 0.3 * math.log(0.3,2) + 0.01 * math.log(0.01,2) + 0.39 * math.log(0.39,2) )"
      ]
    },
    {
      "cell_type": "markdown",
      "metadata": {},
      "source": [
        "Check the value of `p6`."
      ]
    },
    {
      "cell_type": "code",
      "execution_count": 19,
      "metadata": {},
      "outputs": [
        {
          "data": {
            "text/plain": [
              "1.9139037172696836"
            ]
          },
          "execution_count": 19,
          "metadata": {},
          "output_type": "execute_result"
        }
      ],
      "source": [
        "p6"
      ]
    },
    {
      "cell_type": "markdown",
      "metadata": {
        "id": "JbuxPaO1IhQF"
      },
      "source": [
        "### Problem 7\n",
        "\n",
        "The Gaussian distribution is often described with parameters $\\mu$ and $\\sigma$ which are its mean and standard deviation respectively.\n",
        "The variable `q7` contains sample from a Gaussian distribution with unknown parameters $\\mu$ and $\\sigma$.\n",
        "Set `p7` to the best estimate for $\\mu$ based on `q7`."
      ]
    },
    {
      "cell_type": "code",
      "execution_count": 20,
      "metadata": {},
      "outputs": [],
      "source": [
        "# DO NOT CHANGE\n",
        "\n",
        "q7 = [ 2.18951305,  3.21334859,  1.14365045,  4.1614196 ,  2.24432341,\n",
        "        1.65558202, -0.64765017,  1.79813678,  2.44497505, -1.01086414,\n",
        "        4.44433271,  4.42989967,  4.81153414,  4.15714616, -1.00328116,\n",
        "        0.08574746,  0.68626944,  2.29629939, -0.81616113,  3.51392696,\n",
        "        3.71135799, -3.40450797, -0.78631389, -0.80101964, -0.60264114,\n",
        "        1.39234378,  2.11862709, -1.05183249,  0.93631673,  2.90434645,\n",
        "        4.67682544,  3.71805815,  2.29786649,  3.1781374 ,  1.90267204,\n",
        "       -2.8452543 ,  2.39347453,  2.45620551,  0.96723225,  4.24547985,\n",
        "       -1.23106729,  1.16939068,  2.7122868 ,  2.27630836,  4.0921482 ,\n",
        "       -3.12414746,  1.47289076,  4.31979053,  2.47272146, -1.22572675,\n",
        "        0.8395345 ,  3.11764728,  4.12395572,  5.28917842,  6.56875269,\n",
        "        0.92508068,  0.49923847, -2.35643919, -0.35051155,  4.42566994,\n",
        "        1.90822077,  2.77904544,  5.18627903, -2.64782035,  3.48792269,\n",
        "        2.50389233, -1.11439104,  1.19428788,  7.03592233,  5.83566561,\n",
        "        6.5173106 ,  0.30285976,  0.25946494,  6.42905913,  5.47758718,\n",
        "       -0.39919649,  3.62305191,  6.21423662,  4.98367437,  4.86768458,\n",
        "        2.54374759,  2.93269745,  0.53365972,  6.09710561, -2.65911688,\n",
        "       -0.55479593, -0.38957135, -1.25774693, -0.83393951,  6.1942297 ,\n",
        "       -0.11597524, -3.5199578 ,  2.36897896,  2.65485797, -0.97884383,\n",
        "        1.82181155,  0.31590117,  4.81870844,  6.50617794, -0.06944201]"
      ]
    },
    {
      "cell_type": "code",
      "execution_count": 21,
      "metadata": {},
      "outputs": [],
      "source": [
        "# YOUR CHANGES HERE\n",
        "\n",
        "p7 = np.mean(q7)"
      ]
    },
    {
      "cell_type": "code",
      "execution_count": 22,
      "metadata": {},
      "outputs": [
        {
          "data": {
            "text/plain": [
              "np.float64(1.9407546870999999)"
            ]
          },
          "execution_count": 22,
          "metadata": {},
          "output_type": "execute_result"
        }
      ],
      "source": [
        "p7"
      ]
    },
    {
      "cell_type": "markdown",
      "metadata": {
        "id": "mW_Zh_tIIg49"
      },
      "source": [
        "### Problem 8\n",
        "\n",
        "The Gaussian distribution is often described with parameters $\\mu$ and $\\sigma$ which are its mean and standard deviation respectively.\n",
        "The variable `q8` contains sample from a Gaussian distribution with unknown parameters $\\mu$ and $\\sigma$.\n",
        "Set `p8` to the best estimate for $\\sigma$ based on `q8`."
      ]
    },
    {
      "cell_type": "code",
      "execution_count": 23,
      "metadata": {},
      "outputs": [],
      "source": [
        "# DO NOT CHANGE\n",
        "\n",
        "q8 = [-1.32487763, -0.72394429,  4.77772181,  5.53219241,  3.7269577 ,\n",
        "        1.55964185,  4.95652446, -0.66917544, -1.61680259,  0.71205177,\n",
        "        1.33359678, -0.7944082 ,  4.04367501, -3.13827056,  6.71313336,\n",
        "        1.4620493 ,  3.11105169, -1.37720757,  0.62460622,  4.44396039,\n",
        "        3.33122464, -1.03426957,  5.71976918,  5.18648399,  8.78590097,\n",
        "        8.19428146,  5.97375495, -1.14346419,  2.4632692 , -2.99693742,\n",
        "        4.31784396,  0.1288061 ,  6.88487521,  3.77759187,  1.39286328,\n",
        "        5.58024851,  0.34219152,  0.12581538,  7.58634855,  2.7136383 ,\n",
        "        4.27255656,  2.62606352, -2.2675166 ,  9.19413007,  2.63380853,\n",
        "        2.84071553,  1.7504841 ,  2.16675503,  7.2437412 ,  5.22792685,\n",
        "        1.5028551 ,  2.66958666,  0.65899729, -4.24551101, -2.98336679,\n",
        "        1.86630789, -0.75597163,  3.84145905,  1.42392319, -1.87596843,\n",
        "       -4.26214085,  3.95754016,  1.26508575,  1.91800295,  0.32456464,\n",
        "        0.76239803, -1.89559082,  2.45133463,  6.26226898, -2.53496552,\n",
        "        2.27062546, -1.97584281,  4.52991083, -1.07315439, -0.79299469,\n",
        "        1.33714764, 11.63999658,  3.85562346,  4.09258214,  5.88166888,\n",
        "        0.36022584,  1.3540896 ,  3.12185003, -0.11699805,  7.62129988,\n",
        "        0.77460845,  1.48166123,  1.31982143,  4.36979573, -0.41560051,\n",
        "        2.85778122, -0.17848605,  3.35888191, -3.64378923,  6.05619661,\n",
        "       -0.01644298,  3.87381097,  0.07376891,  1.6267978 ,  0.039076  ]"
      ]
    },
    {
      "cell_type": "markdown",
      "metadata": {
        "id": "FUKw4A2H2dku"
      },
      "source": [
        "Hint: Don't forget that `q8` is a sample."
      ]
    },
    {
      "cell_type": "code",
      "execution_count": 25,
      "metadata": {},
      "outputs": [],
      "source": [
        "# YOUR CHANGES HERE\n",
        "\n",
        "p8 = np.std(q8,ddof=1)"
      ]
    },
    {
      "cell_type": "markdown",
      "metadata": {},
      "source": [
        "Check the value of `p8`."
      ]
    },
    {
      "cell_type": "code",
      "execution_count": 26,
      "metadata": {},
      "outputs": [
        {
          "data": {
            "text/plain": [
              "np.float64(3.1793252926677353)"
            ]
          },
          "execution_count": 26,
          "metadata": {},
          "output_type": "execute_result"
        }
      ],
      "source": [
        "p8"
      ]
    },
    {
      "cell_type": "markdown",
      "metadata": {
        "id": "8OTx56oFIgh5"
      },
      "source": [
        "### Problem 9\n",
        "\n",
        "The function `q9` below samples a uniform random distribution from a range besides [0,1).\n",
        "What is the 25th percentile of that distribution?"
      ]
    },
    {
      "cell_type": "code",
      "execution_count": 28,
      "metadata": {},
      "outputs": [],
      "source": [
        "# DO NOT CHANGE\n",
        "\n",
        "def q9():\n",
        "    return random.random() * 3 + 2"
      ]
    },
    {
      "cell_type": "code",
      "execution_count": null,
      "metadata": {},
      "outputs": [],
      "source": [
        "# YOUR CHANGES HERE\n",
        "\n",
        "p9 = 2+3/4"
      ]
    },
    {
      "cell_type": "code",
      "execution_count": 30,
      "metadata": {},
      "outputs": [
        {
          "data": {
            "text/plain": [
              "3.5"
            ]
          },
          "execution_count": 30,
          "metadata": {},
          "output_type": "execute_result"
        }
      ],
      "source": [
        "p9"
      ]
    },
    {
      "cell_type": "markdown",
      "metadata": {
        "id": "88HguRnEIfeI"
      },
      "source": [
        "### Problem 10\n",
        "\n",
        "Suppose variable $X$ is uniformly distributed between zero and one, and $Y = 1$ if $X > 0.7$ and $Y = 0$ otherwise.\n",
        "Set `p10` to the average value of $Y$."
      ]
    },
    {
      "cell_type": "code",
      "execution_count": null,
      "metadata": {},
      "outputs": [],
      "source": [
        "# YOUR CHANGES HERE\n",
        "\n",
        "p10 = 0.3"
      ]
    },
    {
      "cell_type": "markdown",
      "metadata": {},
      "source": [
        "Check the value of `p10`."
      ]
    },
    {
      "cell_type": "code",
      "execution_count": 32,
      "metadata": {},
      "outputs": [
        {
          "data": {
            "text/plain": [
              "0.7"
            ]
          },
          "execution_count": 32,
          "metadata": {},
          "output_type": "execute_result"
        }
      ],
      "source": [
        "p10"
      ]
    },
    {
      "cell_type": "markdown",
      "metadata": {},
      "source": [
        "### Problem 11\n",
        "\n",
        "Read the following function `q11`.\n",
        "Set `p11` to be the probability that it returns 5.\n"
      ]
    },
    {
      "cell_type": "code",
      "execution_count": null,
      "metadata": {},
      "outputs": [],
      "source": [
        "# DO NOT CHANGE\n",
        "\n",
        "def q11():\n",
        "    if random.random() < 0.3:\n",
        "        return 3\n",
        "    else:\n",
        "        return 5"
      ]
    },
    {
      "cell_type": "code",
      "execution_count": 33,
      "metadata": {},
      "outputs": [],
      "source": [
        "# YOUR CHANGES HERE\n",
        "\n",
        "p11 = 0.7"
      ]
    },
    {
      "cell_type": "markdown",
      "metadata": {},
      "source": [
        "Check the value of `p11`."
      ]
    },
    {
      "cell_type": "code",
      "execution_count": 34,
      "metadata": {},
      "outputs": [
        {
          "data": {
            "text/plain": [
              "0.7"
            ]
          },
          "execution_count": 34,
          "metadata": {},
          "output_type": "execute_result"
        }
      ],
      "source": [
        "p11"
      ]
    },
    {
      "cell_type": "markdown",
      "metadata": {
        "id": "tO_o_pYkIfE3"
      },
      "source": [
        "### Problem 12\n",
        "\n",
        "`q12` was populated by sampling a normal distribution with parameters $\\mu = 3$ and $\\sigma = 2.5$.\n",
        "Set `p12` to be the variance of the true distribution."
      ]
    },
    {
      "cell_type": "code",
      "execution_count": null,
      "metadata": {},
      "outputs": [],
      "source": [
        "# DO NOT CHANGE\n",
        "\n",
        "q12 = [ 2.49073198,  3.96150942,  3.57959012,  2.97489566,  4.43810472,\n",
        "        0.60937953,  4.79559959,  3.31998609, -3.13413567,  4.18655819,\n",
        "        1.60472606, -0.90067315,  5.72144055,  1.96285829,  3.58032777,\n",
        "        5.0000598 ,  1.99155364,  4.03012882,  4.4328265 ,  3.7561623 ,\n",
        "        4.36517297,  7.33571955,  2.98004007,  2.39190998,  0.8896004 ,\n",
        "        4.39483694,  6.24001744,  3.5728269 ,  3.56109955,  0.03100252,\n",
        "        0.01694201,  6.10146135,  6.53860572, -0.98557317,  5.55601581,\n",
        "       -0.57466865,  1.96730937,  3.154147  ,  0.57831568,  2.7929834 ,\n",
        "        2.02219267,  2.57068019,  2.00348843,  5.32982181,  4.12930339,\n",
        "        1.83013824,  2.94163411,  1.8466857 ,  2.50884172,  3.42618505,\n",
        "        0.41681884,  4.27545837, -0.33949951,  5.33027797,  2.55328453,\n",
        "        1.31282454,  5.2186943 ,  4.44302476,  2.37329286, -1.06933716,\n",
        "       -4.2889853 , -0.91837895,  4.79007654,  1.86741974,  3.52981753,\n",
        "        1.84690485,  7.52242246, -0.8776054 ,  7.03684919,  5.18383115,\n",
        "       -0.18018984,  2.49325949,  5.93960657,  2.56212489,  5.58226401,\n",
        "        0.13910789, -0.15979284,  4.6192372 ,  6.79108277, -1.88259064,\n",
        "        2.28757873,  6.14699094,  5.89771401, -1.14394154,  4.37797268,\n",
        "        4.48893764,  2.25998463,  0.45671891,  2.085927  ,  3.35330559,\n",
        "        3.27327967,  0.07365027,  2.80898248,  0.247282  , -3.08661626,\n",
        "        2.63549085,  9.92929404,  2.73060926,  2.30437159,  1.3225877 ]"
      ]
    },
    {
      "cell_type": "markdown",
      "metadata": {},
      "source": [
        "Hint: you should be able to calculate this exactly.\n",
        "No estimate is required."
      ]
    },
    {
      "cell_type": "code",
      "execution_count": null,
      "metadata": {},
      "outputs": [],
      "source": [
        "# YOUR CHANGES HERE\n",
        "\n",
        "p12 = 2.5**2"
      ]
    },
    {
      "cell_type": "code",
      "execution_count": null,
      "metadata": {},
      "outputs": [
        {
          "data": {
            "text/plain": [
              "Ellipsis"
            ]
          },
          "execution_count": 51,
          "metadata": {},
          "output_type": "execute_result"
        }
      ],
      "source": [
        "p12"
      ]
    },
    {
      "cell_type": "markdown",
      "metadata": {
        "id": "cUeEhIJRIecP"
      },
      "source": [
        "### Problem 13\n",
        "\n",
        "Write a function `p13` that computes the cumulative distribution function of the uniform random distribution between -0.5 and 1.5."
      ]
    },
    {
      "cell_type": "code",
      "execution_count": 35,
      "metadata": {},
      "outputs": [],
      "source": [
        "# YOUR CHANGES HERE\n",
        "\n",
        "def p13(x):\n",
        "    if x < -0.5:\n",
        "        return 0\n",
        "    elif x>1.5: \n",
        "        return 1\n",
        "    else:\n",
        "        return (x+0.5)/2"
      ]
    },
    {
      "cell_type": "markdown",
      "metadata": {},
      "source": [
        "Check the output of `p13`."
      ]
    },
    {
      "cell_type": "code",
      "execution_count": 36,
      "metadata": {},
      "outputs": [
        {
          "data": {
            "text/plain": [
              "0"
            ]
          },
          "execution_count": 36,
          "metadata": {},
          "output_type": "execute_result"
        }
      ],
      "source": [
        "p13(-1.0)"
      ]
    },
    {
      "cell_type": "code",
      "execution_count": 37,
      "metadata": {},
      "outputs": [
        {
          "data": {
            "text/plain": [
              "0.0"
            ]
          },
          "execution_count": 37,
          "metadata": {},
          "output_type": "execute_result"
        }
      ],
      "source": [
        "p13(-0.5)"
      ]
    },
    {
      "cell_type": "code",
      "execution_count": 38,
      "metadata": {},
      "outputs": [
        {
          "data": {
            "text/plain": [
              "0.25"
            ]
          },
          "execution_count": 38,
          "metadata": {},
          "output_type": "execute_result"
        }
      ],
      "source": [
        "p13(0.0)"
      ]
    },
    {
      "cell_type": "code",
      "execution_count": 39,
      "metadata": {},
      "outputs": [
        {
          "data": {
            "text/plain": [
              "0.5"
            ]
          },
          "execution_count": 39,
          "metadata": {},
          "output_type": "execute_result"
        }
      ],
      "source": [
        "p13(0.5)"
      ]
    },
    {
      "cell_type": "code",
      "execution_count": 40,
      "metadata": {},
      "outputs": [
        {
          "data": {
            "text/plain": [
              "0.75"
            ]
          },
          "execution_count": 40,
          "metadata": {},
          "output_type": "execute_result"
        }
      ],
      "source": [
        "p13(1.0)"
      ]
    },
    {
      "cell_type": "code",
      "execution_count": 41,
      "metadata": {},
      "outputs": [
        {
          "data": {
            "text/plain": [
              "1.0"
            ]
          },
          "execution_count": 41,
          "metadata": {},
          "output_type": "execute_result"
        }
      ],
      "source": [
        "p13(1.5)"
      ]
    },
    {
      "cell_type": "code",
      "execution_count": 42,
      "metadata": {},
      "outputs": [
        {
          "data": {
            "text/plain": [
              "1"
            ]
          },
          "execution_count": 42,
          "metadata": {},
          "output_type": "execute_result"
        }
      ],
      "source": [
        "p13(2.0)"
      ]
    },
    {
      "cell_type": "markdown",
      "metadata": {
        "id": "BVB280nDIduP"
      },
      "source": [
        "### Problem 14\n",
        "\n",
        "The variables `q14a` and `q14b` were both sampled from distributions $A$ and $B$ which are both normal distributions with unknown parameters.\n",
        "Set `p14` to the best estimate for the mean of the distribution $A + B$ where samples of $A$ are added to samples of $B$."
      ]
    },
    {
      "cell_type": "code",
      "execution_count": 43,
      "metadata": {},
      "outputs": [],
      "source": [
        "# DO NOT CHANGE\n",
        "\n",
        "q14a = [ 3.05229454,  2.26865592, -0.28446062,  2.72815019,  0.87702548,\n",
        "        2.39263395,  3.17406741,  2.99130508,  2.18517843,  1.91179467,\n",
        "        1.276371  ,  1.58415728,  5.17685568,  2.25579908,  4.1273098 ,\n",
        "        1.18074705,  2.57485786,  2.01014922,  3.29417197,  1.43566483,\n",
        "        3.81411092,  3.02804559,  1.39695517,  1.97971733,  2.09189825,\n",
        "        0.64092016,  2.58860093,  2.78111888,  3.94685952,  2.10160553,\n",
        "        2.69579444,  1.14600875,  0.9743622 ,  3.56832344,  0.46665662,\n",
        "        1.2241187 ,  1.80532282,  3.76737705,  3.06181508,  2.8311355 ,\n",
        "        3.53584199,  3.30625694,  0.17647862,  3.0485558 ,  3.85965566,\n",
        "        2.44064979,  0.52507351,  1.48381841,  4.3613498 ,  1.91572142,\n",
        "        0.4141849 ,  0.24046835,  3.63840345,  2.34779604,  1.84522379,\n",
        "        1.15184225,  2.88400496,  2.52343481,  1.40144055,  0.62043358,\n",
        "        2.32197257,  3.67424475,  2.24350799,  0.0731625 ,  1.09701349,\n",
        "        1.53012311,  1.33975812,  1.43008794,  3.01551034,  1.89454186,\n",
        "        3.37760792,  1.7526434 ,  0.09430535,  3.76751883,  2.21365605,\n",
        "       -1.79405225, -2.35551196,  2.49030091,  2.95382578,  4.21424994,\n",
        "        3.18841543,  3.25701312,  2.26213341,  1.28897006,  3.15991118,\n",
        "        0.92657717,  1.69053899,  4.0727547 ,  2.92330195,  3.56225094,\n",
        "        2.03534048,  1.3435683 ,  3.84731073, -0.76679685,  0.47916153,\n",
        "        2.28306285,  2.37714022,  1.69922985,  3.01644183,  4.8481596 ]"
      ]
    },
    {
      "cell_type": "code",
      "execution_count": 44,
      "metadata": {},
      "outputs": [],
      "source": [
        "# DO NOT CHANGE\n",
        "\n",
        "q14b = [0.43973473, 0.49035749, 0.37869895, 0.46085026, 0.4804874 ,\n",
        "       0.60468773, 0.17334382, 0.4501747 , 0.3875715 , 0.46082909,\n",
        "       0.57557651, 0.48700529, 0.51676064, 0.49849571, 0.47736084,\n",
        "       0.61179914, 0.49752516, 0.57352076, 0.5538917 , 0.35818804,\n",
        "       0.37365096, 0.45016084, 0.62332962, 0.26892053, 0.47056826,\n",
        "       0.48392473, 0.36533735, 0.46471291, 0.36393801, 0.41489211,\n",
        "       0.41772154, 0.39896619, 0.60142511, 0.4156219 , 0.59968116,\n",
        "       0.4578653 , 0.33890952, 0.51023614, 0.34758804, 0.52963593,\n",
        "       0.57499551, 0.38295178, 0.6301122 , 0.61782609, 0.46120195,\n",
        "       0.4892057 , 0.42706462, 0.49021875, 0.59549941, 0.41114449,\n",
        "       0.56757128, 0.53615432, 0.56154366, 0.50702254, 0.5924536 ,\n",
        "       0.51203165, 0.57877741, 0.65814672, 0.46251323, 0.43326838,\n",
        "       0.45024371, 0.58353354, 0.4180071 , 0.50474524, 0.48361257,\n",
        "       0.45206656, 0.50495991, 0.5947725 , 0.61731827, 0.37045298,\n",
        "       0.4601027 , 0.50905589, 0.49807366, 0.41684085, 0.40852841,\n",
        "       0.42148078, 0.51519874, 0.59004724, 0.61401271, 0.51959196,\n",
        "       0.41803244, 0.75651183, 0.6851764 , 0.43835799, 0.53803429,\n",
        "       0.32109122, 0.49139667, 0.43740161, 0.60515444, 0.6028803 ,\n",
        "       0.50560156, 0.57192461, 0.71634746, 0.38701729, 0.53235196,\n",
        "       0.40886518, 0.41700478, 0.55548547, 0.581273  , 0.67311741]"
      ]
    },
    {
      "cell_type": "code",
      "execution_count": 45,
      "metadata": {},
      "outputs": [],
      "source": [
        "# YOUR CHANGES HERE\n",
        "\n",
        "p14 = np.mean(q14a) + np.mean(q14b)"
      ]
    },
    {
      "cell_type": "markdown",
      "metadata": {},
      "source": [
        "Check the value of `p14`."
      ]
    },
    {
      "cell_type": "code",
      "execution_count": 46,
      "metadata": {},
      "outputs": [
        {
          "data": {
            "text/plain": [
              "np.float64(2.6611238258)"
            ]
          },
          "execution_count": 46,
          "metadata": {},
          "output_type": "execute_result"
        }
      ],
      "source": [
        "p14"
      ]
    },
    {
      "cell_type": "markdown",
      "metadata": {},
      "source": [
        "### Problem 15\n",
        "\n",
        "Write a function `p15` that returns the string \"You win!\" 1% of the time and \"Sorry\" the rest of the time."
      ]
    },
    {
      "cell_type": "code",
      "execution_count": 49,
      "metadata": {},
      "outputs": [],
      "source": [
        "# YOUR CHANGES HERE\n",
        "\n",
        "def p15():\n",
        "    win = random.random()\n",
        "    if win<0.01:\n",
        "        return \"You win!\"\n",
        "    else:\n",
        "        return \"Sorry\""
      ]
    },
    {
      "cell_type": "markdown",
      "metadata": {},
      "source": [
        "Test `p15`."
      ]
    },
    {
      "cell_type": "code",
      "execution_count": 78,
      "metadata": {},
      "outputs": [
        {
          "data": {
            "text/plain": [
              "['Sorry',\n",
              " 'Sorry',\n",
              " 'Sorry',\n",
              " 'Sorry',\n",
              " 'Sorry',\n",
              " 'Sorry',\n",
              " 'Sorry',\n",
              " 'Sorry',\n",
              " 'Sorry',\n",
              " 'Sorry']"
            ]
          },
          "execution_count": 78,
          "metadata": {},
          "output_type": "execute_result"
        }
      ],
      "source": [
        "[p15() for _ in range(10)]"
      ]
    },
    {
      "cell_type": "markdown",
      "metadata": {
        "id": "Y_DV5n5kIdYx"
      },
      "source": [
        "### Problem 16\n",
        "\n",
        "The function `q16` below is the cumulative distribution function for an unknown distribution.\n",
        "Set `p16` to the median of that distribution."
      ]
    },
    {
      "cell_type": "markdown",
      "metadata": {},
      "source": [
        "Hint: you can figure this out by studying how `q16` works, or by calling it several times to understand the distribution that way.\n",
        "You may also find it helpful to plot the output of `q16`."
      ]
    },
    {
      "cell_type": "code",
      "execution_count": 74,
      "metadata": {},
      "outputs": [],
      "source": [
        "# DO NOT CHANGE\n",
        "\n",
        "def q16(x):\n",
        "    if x < -4:\n",
        "        return 0\n",
        "    \n",
        "    elif -4 <= x < -3:\n",
        "        return ((x + 4) ** 2) / 2  # this is (x+4) squared, then divided by two\n",
        "    \n",
        "    elif -3 <= x < 0:\n",
        "        return (x / 6) + 1\n",
        "    \n",
        "    else:  # 0 <= x\n",
        "        return 1 \n"
      ]
    },
    {
      "cell_type": "markdown",
      "metadata": {},
      "source": [
        "Here is an equivalent mathematical expression for the same function.\n",
        "\n",
        "\\begin{array}{rcl}\n",
        "q_{16}(x) & = & \\begin{cases}\n",
        "0 & \\text{if } x < -4  \\\\\n",
        "\\\\\n",
        "\\frac{(x+4)^2}{2} & \\text{if } -4 \\leq x < -3 \\\\\n",
        "\\\\\n",
        "\\frac{x}{6} + 1 & \\text{if } -3 \\leq x < 0 \\\\\n",
        "\\\\\n",
        "1 & \\text{otherwise}\n",
        "\\end{cases}\n",
        "\\end{array}"
      ]
    },
    {
      "cell_type": "code",
      "execution_count": 75,
      "metadata": {},
      "outputs": [],
      "source": [
        "# YOUR ANSWER HERE\n",
        "\n",
        "p16 = -3"
      ]
    },
    {
      "cell_type": "markdown",
      "metadata": {},
      "source": [
        "Check the value of `p16`."
      ]
    },
    {
      "cell_type": "code",
      "execution_count": 76,
      "metadata": {},
      "outputs": [
        {
          "data": {
            "text/plain": [
              "-3"
            ]
          },
          "execution_count": 76,
          "metadata": {},
          "output_type": "execute_result"
        }
      ],
      "source": [
        "p16"
      ]
    },
    {
      "cell_type": "markdown",
      "metadata": {
        "id": "w97gCVeiIdCK"
      },
      "source": [
        "### Problem 17\n",
        "\n",
        "Suppose that random variable $X$ is sampled uniform randomly from the range $[0,1)$, and the random variable $Y$ is defined to be $Y = 3X + 1$.\n",
        "Set `p17` to be the mean of $Y$."
      ]
    },
    {
      "cell_type": "markdown",
      "metadata": {},
      "source": [
        "Hint: it will probably help to think about the range of $Y$ and what the distribution within that range looks like."
      ]
    },
    {
      "cell_type": "code",
      "execution_count": null,
      "metadata": {},
      "outputs": [],
      "source": [
        "# YOUR CHANGES HERE\n",
        "\n",
        "p17 = 2.5"
      ]
    },
    {
      "cell_type": "code",
      "execution_count": null,
      "metadata": {},
      "outputs": [
        {
          "data": {
            "text/plain": [
              "Ellipsis"
            ]
          },
          "execution_count": 70,
          "metadata": {},
          "output_type": "execute_result"
        }
      ],
      "source": [
        "p17"
      ]
    },
    {
      "cell_type": "markdown",
      "metadata": {
        "id": "4KFdwSFBIcoo"
      },
      "source": [
        "### Problem 18\n",
        "\n",
        "Suppose variable $X$ is uniformly distributed between 2 and 4, and $Y = X+1$ if $X > 3$ and $Y = 1$ otherwise.\n",
        "Set `p18` to the average value of $Y$."
      ]
    },
    {
      "cell_type": "markdown",
      "metadata": {},
      "source": [
        "Hint: Try drawing or plotting the value of $Y$ as a function of $X$."
      ]
    },
    {
      "cell_type": "code",
      "execution_count": 77,
      "metadata": {},
      "outputs": [],
      "source": [
        "# YOUR CHANGES HERE\n",
        "\n",
        "p18 = 0.5+9/4"
      ]
    },
    {
      "cell_type": "code",
      "execution_count": 72,
      "metadata": {},
      "outputs": [
        {
          "data": {
            "text/plain": [
              "Ellipsis"
            ]
          },
          "execution_count": 72,
          "metadata": {},
          "output_type": "execute_result"
        }
      ],
      "source": [
        "p18"
      ]
    },
    {
      "cell_type": "markdown",
      "metadata": {
        "id": "pQ5isDQqIcRG"
      },
      "source": [
        "### Problem 19\n",
        "\n",
        "Set `p19` to an estimate of the 90th percentile of the normal distribution with parameters $\\mu = 5$ and $\\sigma = 2$.\n",
        "Try to do this by sampling the distribution many times (say 10000), and computing the quantile from the sample data.\n",
        "This problem will allow inexact, but close estimates, so don't worry about sampling variation.\n",
        "\n",
        "You can sample that normal distribution once with `np.random.normal(loc=5, scale=2)`.\n",
        "See the documentation for [`np.random.normal`](https://numpy.org/doc/stable/reference/random/generated/numpy.random.normal.html) for more useful information."
      ]
    },
    {
      "cell_type": "code",
      "execution_count": 81,
      "metadata": {},
      "outputs": [],
      "source": [
        "# YOUR CHANGES HERE\n",
        "\n",
        "# get a big sample from this distribution\n",
        "q19 = [np.random.normal(loc=5,scale=2) for x in range(10000)]"
      ]
    },
    {
      "cell_type": "code",
      "execution_count": 82,
      "metadata": {},
      "outputs": [
        {
          "data": {
            "text/plain": [
              "[3.2934756988942953,\n",
              " 3.1323306555894312,\n",
              " 3.72444565979463,\n",
              " 6.924253286096033,\n",
              " 2.1754416562796846,\n",
              " 6.305429737295099,\n",
              " 8.59408332038454,\n",
              " 1.585156854246983,\n",
              " 3.8304296877395445,\n",
              " 3.2608230200303776,\n",
              " 8.25883261198131,\n",
              " 4.015950283405711,\n",
              " 4.855414404159367,\n",
              " 6.202708494687758,\n",
              " 6.452526968448902,\n",
              " 5.901229993622405,\n",
              " 4.230015250464522,\n",
              " 2.1588495234854417,\n",
              " 1.9768817782490005,\n",
              " 4.639026545281149,\n",
              " 8.341377163862784,\n",
              " 2.511582238510932,\n",
              " 1.183950353093525,\n",
              " 4.361321498766714,\n",
              " 5.460030163202399,\n",
              " 5.1663645990712626,\n",
              " 3.6493543812722384,\n",
              " 4.082222652680608,\n",
              " 6.574942048865493,\n",
              " 4.479089585952105,\n",
              " 8.280687734733672,\n",
              " 3.2635214769195056,\n",
              " 7.314195055304371,\n",
              " 7.478910870673629,\n",
              " 6.525396867467616,\n",
              " 4.714363198162095,\n",
              " 5.7386903433077405,\n",
              " 6.87507807343138,\n",
              " 5.7410902883869115,\n",
              " 4.104098556741402,\n",
              " 7.718961310173627,\n",
              " 5.089660447568909,\n",
              " 2.550498392165522,\n",
              " 5.738206616492875,\n",
              " 5.171190595329106,\n",
              " 7.310351912146704,\n",
              " 6.8068722621344335,\n",
              " 4.687527555268892,\n",
              " 6.365459433386836,\n",
              " 4.68275573781738,\n",
              " 3.4131738621574743,\n",
              " 5.045998161832498,\n",
              " 8.47779103936065,\n",
              " 4.569199540664393,\n",
              " -0.14723614091015236,\n",
              " 5.7931513481339865,\n",
              " 3.867550754865884,\n",
              " 2.5474710969023304,\n",
              " 4.135082919358665,\n",
              " 4.451793159874583,\n",
              " 7.7746630167416235,\n",
              " 7.975124970898538,\n",
              " 4.668374067649451,\n",
              " 1.7473961969909704,\n",
              " 8.24841741997049,\n",
              " 5.290532328453701,\n",
              " 5.411085020954718,\n",
              " 7.576853484259661,\n",
              " 3.382220315222413,\n",
              " 3.9751630694356814,\n",
              " 4.739996471789038,\n",
              " 8.494905411261252,\n",
              " 4.767176808388695,\n",
              " 5.597531945514488,\n",
              " 7.1681883653093985,\n",
              " 2.9404206657491088,\n",
              " 1.9921744931465621,\n",
              " 4.69658285818346,\n",
              " 7.814440406178415,\n",
              " 4.761005361061237,\n",
              " 3.290193621223157,\n",
              " 5.789782528270757,\n",
              " 4.393836722736487,\n",
              " 1.9492198763562887,\n",
              " 5.3188227775924615,\n",
              " 5.717596926536137,\n",
              " 3.3245347459089647,\n",
              " 0.25887814295675504,\n",
              " 7.319014458829802,\n",
              " 6.369887502336587,\n",
              " 3.919974398545617,\n",
              " 7.71101236697983,\n",
              " 6.1541243479880805,\n",
              " 3.2596734480919016,\n",
              " 3.3357458414197283,\n",
              " 5.97458015680215,\n",
              " 4.775523785851536,\n",
              " 4.340199770894829,\n",
              " 6.211333891417874,\n",
              " 3.4680057542266516,\n",
              " 6.542104422098097,\n",
              " 8.730151973231619,\n",
              " 4.702954077483718,\n",
              " 3.1611093553277585,\n",
              " 4.842821379734804,\n",
              " 6.896289285288709,\n",
              " 4.853708245973919,\n",
              " 0.9280287064742678,\n",
              " 3.943461801353655,\n",
              " 6.011535375013109,\n",
              " 4.6755242367528265,\n",
              " 5.398337767980574,\n",
              " 6.075110742191262,\n",
              " 4.069525147538299,\n",
              " 3.9818600787119287,\n",
              " 4.30039107783499,\n",
              " 5.390812407795773,\n",
              " 3.539492136240473,\n",
              " 9.417346706906384,\n",
              " 7.037672032716934,\n",
              " 5.832641822670906,\n",
              " 2.2792156697704686,\n",
              " 6.704726796974781,\n",
              " 7.335848754548955,\n",
              " 2.0164808127909013,\n",
              " 3.749049882499304,\n",
              " 6.853434908743658,\n",
              " 7.452455026165485,\n",
              " 3.4201585847355105,\n",
              " 2.2586791625441935,\n",
              " 3.3200293514148838,\n",
              " 7.485809798530736,\n",
              " 5.226575030628813,\n",
              " 1.8831088669265217,\n",
              " -0.004591526703735305,\n",
              " 4.4086247242345245,\n",
              " 6.162283323142051,\n",
              " 3.4476554488755013,\n",
              " 3.1121779696507663,\n",
              " 1.2484812280432536,\n",
              " 6.60884538024327,\n",
              " 3.0312172563537754,\n",
              " 3.0872144364853025,\n",
              " 4.645837293878601,\n",
              " 5.019168597330504,\n",
              " 5.534119017426564,\n",
              " 9.077456822907266,\n",
              " 4.303370334519794,\n",
              " 6.530131416049842,\n",
              " 9.189489843831558,\n",
              " 5.146614250964994,\n",
              " 3.723557380108847,\n",
              " 3.6462533100394916,\n",
              " 1.7284871823640011,\n",
              " 1.6713497479044679,\n",
              " 5.644353363224228,\n",
              " 8.992990776510725,\n",
              " 7.839242174366113,\n",
              " 4.741415153618301,\n",
              " 1.197492703152749,\n",
              " 6.042042336551116,\n",
              " 2.8101410633438224,\n",
              " 4.856005019500677,\n",
              " 3.8782445718170173,\n",
              " 3.8419359764939633,\n",
              " 5.385238102507997,\n",
              " 7.500322959244411,\n",
              " 5.104486955423369,\n",
              " 4.995893350280433,\n",
              " 5.912858586676158,\n",
              " 5.972955452811343,\n",
              " 6.554592033341486,\n",
              " 4.996434986924173,\n",
              " 5.2258273731685545,\n",
              " 7.794383897575985,\n",
              " 7.203712389732013,\n",
              " 7.3379387070614985,\n",
              " 6.269053842715365,\n",
              " 2.1896247575435486,\n",
              " 3.059874554068918,\n",
              " 5.070264443413044,\n",
              " 5.9890797130184374,\n",
              " 2.12647538209509,\n",
              " 4.230740489760965,\n",
              " 5.292343057193978,\n",
              " 6.97203086690061,\n",
              " 6.5604511293732415,\n",
              " 5.56083996320476,\n",
              " 2.4678643025047045,\n",
              " 3.9709421638266926,\n",
              " 4.602835033626883,\n",
              " 5.061264978525916,\n",
              " 8.27849487369232,\n",
              " 8.174178292479624,\n",
              " 7.380697386177074,\n",
              " 7.785497233886939,\n",
              " 5.6778258530597085,\n",
              " 7.672222436431216,\n",
              " 6.027091924274794,\n",
              " 5.441649281131204,\n",
              " 8.606732386806147,\n",
              " 4.359402322735021,\n",
              " 5.357271380361448,\n",
              " 3.6716272064270736,\n",
              " 7.082610529553953,\n",
              " 8.141453876238087,\n",
              " 4.722508737077586,\n",
              " 2.5264769419740634,\n",
              " 5.144092278031968,\n",
              " 0.7848159297527353,\n",
              " 3.109974060952938,\n",
              " 0.33279512151799295,\n",
              " 6.345057957728481,\n",
              " 9.673964770476521,\n",
              " 4.984660190313148,\n",
              " 7.9541206469031716,\n",
              " 4.559134278739228,\n",
              " 6.335732090915597,\n",
              " 5.877502377727496,\n",
              " 4.003217359935403,\n",
              " 5.743592033867129,\n",
              " 0.09805883430264206,\n",
              " 6.590617385171936,\n",
              " 6.278090181073771,\n",
              " 7.514175736690862,\n",
              " 5.528247493673836,\n",
              " 3.5358150026615762,\n",
              " 5.5778667548067755,\n",
              " 5.152899103513512,\n",
              " 2.3159419915940362,\n",
              " 3.6368312087329238,\n",
              " 7.169660768197524,\n",
              " 6.42953571623294,\n",
              " 8.362563089020334,\n",
              " 2.6223952701535485,\n",
              " 7.40752719915106,\n",
              " 5.302767744683413,\n",
              " 3.535695308860862,\n",
              " 6.3226380766536465,\n",
              " 5.601162913947992,\n",
              " 4.487147361949238,\n",
              " 6.605182858311601,\n",
              " 3.8136800405049573,\n",
              " 5.256051885655037,\n",
              " 4.7279742422345254,\n",
              " 1.558286236022898,\n",
              " 7.2282070654471156,\n",
              " 6.170007410386029,\n",
              " 7.600394396638109,\n",
              " 3.8462566574876025,\n",
              " 4.88056523826164,\n",
              " 4.559350941810791,\n",
              " 2.2343051456480056,\n",
              " 4.940313027616802,\n",
              " 8.643488094307715,\n",
              " 4.3188096485525,\n",
              " 1.7616755403642141,\n",
              " 6.175322012424571,\n",
              " 3.370817299395747,\n",
              " 5.567544680822679,\n",
              " 2.0180142258883698,\n",
              " 7.748206914038351,\n",
              " 6.544043896409824,\n",
              " 7.047449345108818,\n",
              " 4.775166377806815,\n",
              " 6.566666082163316,\n",
              " 6.894807929240821,\n",
              " 5.862842663607801,\n",
              " 1.9442844474074334,\n",
              " 4.741107092774017,\n",
              " 5.312140652651184,\n",
              " 6.981984734003188,\n",
              " 6.113795056444289,\n",
              " 6.076763753339776,\n",
              " 2.99429589864431,\n",
              " 5.553213814979123,\n",
              " 2.8041409156102497,\n",
              " 6.556404954022101,\n",
              " 4.177809339508191,\n",
              " 2.475433984986108,\n",
              " 4.932494594321805,\n",
              " 5.836057322872336,\n",
              " 6.205133266113995,\n",
              " 6.459192502396274,\n",
              " 6.821661278698966,\n",
              " 6.0235917280030975,\n",
              " 3.472017059608944,\n",
              " 7.2770003511607495,\n",
              " 5.395834438909727,\n",
              " 4.162956280490608,\n",
              " 3.242821833108236,\n",
              " 1.3055376561983927,\n",
              " 2.9382426760302773,\n",
              " 5.018471357312838,\n",
              " 4.099031085498277,\n",
              " 5.503079562940459,\n",
              " 4.265076726959647,\n",
              " 8.934492807791289,\n",
              " 4.830910235915861,\n",
              " 4.174188662989112,\n",
              " 3.4265134469167204,\n",
              " 6.751196302032667,\n",
              " 4.744066297590612,\n",
              " 6.243368297464951,\n",
              " 3.1399412555622765,\n",
              " 4.45923272111298,\n",
              " 5.966988946774425,\n",
              " 9.225380423238201,\n",
              " 3.596060492681308,\n",
              " 5.98473061778779,\n",
              " 6.355753044955953,\n",
              " 4.431769975068455,\n",
              " 3.5830364669293355,\n",
              " 6.295867760748486,\n",
              " 7.095320258897759,\n",
              " 6.591515973313715,\n",
              " 5.544542202921194,\n",
              " 9.405275461768973,\n",
              " 1.8399291015612773,\n",
              " 4.352752905073974,\n",
              " 4.855900374056683,\n",
              " 8.736551701464384,\n",
              " 5.866856633776037,\n",
              " 9.232297502378533,\n",
              " 5.275696552293945,\n",
              " 3.4032018621522875,\n",
              " 5.923060646060321,\n",
              " 6.666784520639295,\n",
              " 6.837407469182524,\n",
              " 0.13809622272389,\n",
              " 2.5818013201989314,\n",
              " 5.5794228412628,\n",
              " 4.857395282117649,\n",
              " 5.54748805350734,\n",
              " 7.067246693367463,\n",
              " 6.124151936144061,\n",
              " 5.049305981681044,\n",
              " 5.261968612749144,\n",
              " 5.598346979224702,\n",
              " 3.538602911117018,\n",
              " 4.822985514188931,\n",
              " 3.1956910631161426,\n",
              " 2.920162044297665,\n",
              " 5.956447460078014,\n",
              " 6.530926254957225,\n",
              " 3.9707585254624975,\n",
              " 3.2543790988756047,\n",
              " 3.850233155435893,\n",
              " 4.700264894590226,\n",
              " 5.404482970372963,\n",
              " 3.2459423545679047,\n",
              " 5.6171024548924455,\n",
              " 2.0194355302571085,\n",
              " 7.36858298896518,\n",
              " 7.863353686813943,\n",
              " 6.108729719208513,\n",
              " 5.896373665001559,\n",
              " 5.345471205034518,\n",
              " 3.899825280223269,\n",
              " 5.833498297128183,\n",
              " 6.73796584216466,\n",
              " 4.980029245666683,\n",
              " 6.104325222712878,\n",
              " 6.080288991285163,\n",
              " 4.287881710497382,\n",
              " 2.141044576016474,\n",
              " 1.7014044748017092,\n",
              " 3.7354213991356184,\n",
              " 4.088907260584639,\n",
              " 4.457607822721258,\n",
              " 0.49846188338903197,\n",
              " 4.7146266091499305,\n",
              " 8.282176615285877,\n",
              " 2.3552210755859773,\n",
              " 7.717368039107194,\n",
              " 5.571354111881903,\n",
              " 4.7862098334242305,\n",
              " 6.346756414890005,\n",
              " 5.815357253236225,\n",
              " 4.77537232071328,\n",
              " 2.341262624432447,\n",
              " 2.7671303340013274,\n",
              " 5.482829288602343,\n",
              " 9.02402558341197,\n",
              " 6.760948695129007,\n",
              " 2.5329003264372183,\n",
              " 6.497962662931939,\n",
              " 8.248951111699226,\n",
              " 6.815236411472546,\n",
              " 6.882297954948724,\n",
              " 9.1042537093039,\n",
              " 6.241025315041976,\n",
              " 3.6066529333676565,\n",
              " 4.440362479539836,\n",
              " 9.663463843276766,\n",
              " 2.869880238255969,\n",
              " 0.7235556218439472,\n",
              " 5.687819595839998,\n",
              " 5.291122850805898,\n",
              " 3.1442376183130616,\n",
              " 4.580002511362642,\n",
              " 6.68176270024109,\n",
              " 3.374368532419415,\n",
              " 5.577672973609966,\n",
              " 2.6606860949842295,\n",
              " 4.337758244384466,\n",
              " 6.010355220992305,\n",
              " 3.7621219921512825,\n",
              " 5.833994759130694,\n",
              " 5.025855471653496,\n",
              " 4.797746367748443,\n",
              " 6.773717822900574,\n",
              " 5.241229997891491,\n",
              " 5.842928822402427,\n",
              " 6.213989562994317,\n",
              " 4.516342524144627,\n",
              " 4.799552410390888,\n",
              " 8.856800037684067,\n",
              " 2.8430130574697805,\n",
              " 0.9496897075859483,\n",
              " 4.893088887186376,\n",
              " 5.719961127799333,\n",
              " 3.5526884714892404,\n",
              " 4.643765290551055,\n",
              " 3.6999876986953426,\n",
              " 3.2205153376486475,\n",
              " 7.573001315619852,\n",
              " 5.652578294934405,\n",
              " 5.186502000554805,\n",
              " 6.259615831213017,\n",
              " 3.622906849605361,\n",
              " 4.592312790026472,\n",
              " 5.560491335807279,\n",
              " 3.8586534466813625,\n",
              " 5.375766002171124,\n",
              " 8.103211200338656,\n",
              " 2.6816749202967034,\n",
              " 4.524030953018388,\n",
              " 3.880586645777073,\n",
              " 4.557326005370328,\n",
              " 3.4495221305610846,\n",
              " 8.481346625232357,\n",
              " 4.726221565707465,\n",
              " 9.149422764728282,\n",
              " 6.1046153697634,\n",
              " 7.070730670054953,\n",
              " 3.2624882002555755,\n",
              " 5.76605600792827,\n",
              " 4.654070156863182,\n",
              " 7.1533017731990824,\n",
              " 8.063765067317245,\n",
              " 2.925309069239217,\n",
              " 7.941296689848133,\n",
              " 3.910308085281078,\n",
              " 5.708627433959532,\n",
              " 1.6983593062833284,\n",
              " 3.2448386777484908,\n",
              " 4.850501641520343,\n",
              " 7.313262196749577,\n",
              " 4.68302543517688,\n",
              " 3.386044587510528,\n",
              " 4.8542550134651075,\n",
              " 0.9944373506298954,\n",
              " 4.911749954183097,\n",
              " 7.834840626060499,\n",
              " 7.272032860074791,\n",
              " 5.61667067944097,\n",
              " 3.9915578877237596,\n",
              " 4.213342519229443,\n",
              " 5.968552232922625,\n",
              " 6.605336192726846,\n",
              " 3.4405555091470426,\n",
              " 5.525429518558198,\n",
              " 7.384436995889625,\n",
              " 5.4984043314124955,\n",
              " 4.457511872792809,\n",
              " 4.384401564681582,\n",
              " 0.19678332408321886,\n",
              " 4.294325480848763,\n",
              " 4.335775103131373,\n",
              " 5.1944551225655875,\n",
              " 3.9890285019845466,\n",
              " 1.460350130041086,\n",
              " 4.369165195744086,\n",
              " 6.645698445635654,\n",
              " 1.648305219522356,\n",
              " 4.768700744296125,\n",
              " 5.917662543347405,\n",
              " 5.096181600507377,\n",
              " 5.425296165933026,\n",
              " 3.314564164494983,\n",
              " 3.5670101652168604,\n",
              " 4.414636941171128,\n",
              " 9.735142534484233,\n",
              " 4.559167320665869,\n",
              " 4.9059685599900575,\n",
              " 7.966473964883329,\n",
              " 3.149064668483354,\n",
              " 3.934761420523423,\n",
              " 3.5959293950563005,\n",
              " 7.263074204776022,\n",
              " 4.541220347653255,\n",
              " 3.7260815026077183,\n",
              " 5.781675276651919,\n",
              " 7.003699511845037,\n",
              " 2.7799502263072897,\n",
              " 2.4889829663956404,\n",
              " 7.16156126926886,\n",
              " 5.860077899300542,\n",
              " 3.269570981628453,\n",
              " 3.4868713509939475,\n",
              " 2.9866611309347593,\n",
              " 4.0676998780330695,\n",
              " 3.9514428584979004,\n",
              " 0.015558890732721764,\n",
              " 6.011378796855861,\n",
              " 6.504536113226665,\n",
              " 6.700751530556493,\n",
              " 4.031382603676088,\n",
              " 4.153778511921646,\n",
              " 4.262982651525418,\n",
              " 1.5881462052176136,\n",
              " 6.189218729102933,\n",
              " 0.5625898223053118,\n",
              " 4.396028589565908,\n",
              " 5.085950677097173,\n",
              " 6.522722511886054,\n",
              " 6.837645808675573,\n",
              " 4.468786410787784,\n",
              " 1.1780479137099187,\n",
              " 4.418013582616211,\n",
              " 5.164766864212084,\n",
              " 6.169956120069828,\n",
              " 6.878784867380085,\n",
              " 0.14179514070496335,\n",
              " 12.01520013297619,\n",
              " 5.139619952529418,\n",
              " 4.842091960225705,\n",
              " 4.99379652327144,\n",
              " 4.670102576825943,\n",
              " 5.406203731641678,\n",
              " 4.990197084255683,\n",
              " 6.323553865432336,\n",
              " 6.380824975978842,\n",
              " 0.9869106664193428,\n",
              " 1.972478589838019,\n",
              " 8.173294138864389,\n",
              " 4.882265166811805,\n",
              " 3.4518124549949354,\n",
              " 1.0727781721560952,\n",
              " 6.741956884153654,\n",
              " 5.189507783776897,\n",
              " 6.874424273165183,\n",
              " 6.239590012963066,\n",
              " 5.086947271259607,\n",
              " 2.3621763246489884,\n",
              " 7.589002128837327,\n",
              " 6.614873213650451,\n",
              " 5.947863425665075,\n",
              " 5.613646451227732,\n",
              " 6.110009460439292,\n",
              " 3.792807035627064,\n",
              " 4.46453233475485,\n",
              " 4.356984719768036,\n",
              " 6.4857168855269975,\n",
              " 4.1722243203559986,\n",
              " 5.181461301718033,\n",
              " 4.808038910380828,\n",
              " 2.57725625909497,\n",
              " 3.188529907632115,\n",
              " 3.3022391930179262,\n",
              " 5.4523649128730955,\n",
              " 5.449454654273531,\n",
              " 4.6433273541438815,\n",
              " 2.9210580751742987,\n",
              " 5.012337654268142,\n",
              " 5.723693577275245,\n",
              " 5.571473346322576,\n",
              " 7.390570756411302,\n",
              " 8.354188983948434,\n",
              " 5.698848024338676,\n",
              " 3.9592654727154577,\n",
              " 6.938042609321223,\n",
              " 2.8936817742621055,\n",
              " 6.745931803070413,\n",
              " 5.75228157021912,\n",
              " 5.1246158688316585,\n",
              " 4.755580865649051,\n",
              " 4.097746915188249,\n",
              " 6.639449070448183,\n",
              " 3.1719352197745625,\n",
              " 1.5908230595329584,\n",
              " 5.93232072011879,\n",
              " 6.3221540803760865,\n",
              " 7.859275448602586,\n",
              " 6.255497386563365,\n",
              " 5.334957506513575,\n",
              " 3.7486171208377925,\n",
              " 7.432059442227615,\n",
              " 7.789006763126595,\n",
              " 5.229887704259971,\n",
              " 5.690995412729999,\n",
              " 3.123822175028142,\n",
              " 7.823675242131515,\n",
              " 5.446689009736614,\n",
              " 1.1181106532671032,\n",
              " 4.508209578437791,\n",
              " 6.297744296962258,\n",
              " 7.43132117897662,\n",
              " 5.665928744960783,\n",
              " 5.934550811728338,\n",
              " 7.252415176417935,\n",
              " 6.534693667949834,\n",
              " 6.549192925747194,\n",
              " 4.866047559215238,\n",
              " 1.8018092835546966,\n",
              " 6.605972172383047,\n",
              " 8.017752680483571,\n",
              " 5.138233625145062,\n",
              " 7.533616266802076,\n",
              " 4.301339052325834,\n",
              " 1.9832379698029379,\n",
              " 2.130862391163481,\n",
              " 5.93372288810685,\n",
              " 4.665911337563664,\n",
              " 5.901367121963708,\n",
              " 5.282292250491801,\n",
              " 6.6278390348629435,\n",
              " 9.336051053824203,\n",
              " 5.9065544638728085,\n",
              " 1.675907128595008,\n",
              " 6.257640177586495,\n",
              " 4.6561791034363695,\n",
              " 8.729944670305427,\n",
              " 3.9308824983932276,\n",
              " 4.467193963762421,\n",
              " 6.018383205873797,\n",
              " 7.834791564047433,\n",
              " 4.603026454061047,\n",
              " 3.0473986439121123,\n",
              " 3.9375912366899763,\n",
              " 8.833696880977879,\n",
              " 1.4807761217661795,\n",
              " 5.2123361304788896,\n",
              " 4.581104542569124,\n",
              " 2.4737258096336903,\n",
              " 3.620174143852684,\n",
              " 2.753488561067774,\n",
              " 7.606446025367086,\n",
              " 7.231052750910543,\n",
              " 5.627968071788617,\n",
              " 6.067594953648499,\n",
              " 7.650721259232198,\n",
              " 5.503517200165053,\n",
              " 3.9702096185804163,\n",
              " 6.323307212321256,\n",
              " 7.173040971969482,\n",
              " 7.888302484737154,\n",
              " 6.745675747654603,\n",
              " 3.660698410768279,\n",
              " 4.807724088432934,\n",
              " 4.668225915027229,\n",
              " 4.277783787163734,\n",
              " 3.8104191424481684,\n",
              " 3.3885898726996206,\n",
              " 2.6391849972267467,\n",
              " 4.294022135486502,\n",
              " 4.447995837995464,\n",
              " 3.8392973984948107,\n",
              " 5.731918216927356,\n",
              " 8.153857787567869,\n",
              " 4.375951235731412,\n",
              " 5.43000062119381,\n",
              " 7.147337796764175,\n",
              " 4.372227301081739,\n",
              " 6.479115958270078,\n",
              " 7.890177123794279,\n",
              " 6.434118111901328,\n",
              " 6.121268800548086,\n",
              " 4.0918589874138265,\n",
              " 1.2220200555536849,\n",
              " 6.769735888455774,\n",
              " 7.100094694648851,\n",
              " 6.78893610931504,\n",
              " 6.8584204731089935,\n",
              " 3.950022398826812,\n",
              " 4.469790675798392,\n",
              " 4.0716188025442035,\n",
              " 5.760056866391834,\n",
              " 4.053689966263024,\n",
              " 8.70370774967319,\n",
              " 6.428728429188109,\n",
              " 8.692086879105803,\n",
              " 4.596211225983157,\n",
              " 1.2252051839541447,\n",
              " 8.153574178561543,\n",
              " 6.187736176195729,\n",
              " 5.329282650282247,\n",
              " 3.758185607492699,\n",
              " 7.745963608733435,\n",
              " 4.89343832745124,\n",
              " 4.588226362854298,\n",
              " 5.364312387136748,\n",
              " 7.089847040774583,\n",
              " 5.045687753851313,\n",
              " 6.372143473717999,\n",
              " 6.381085517345017,\n",
              " 4.764842692831966,\n",
              " 8.261256446317269,\n",
              " 11.497356336732015,\n",
              " 4.191886137111187,\n",
              " 1.4661049909844137,\n",
              " 2.475198018588491,\n",
              " 5.2907693040231205,\n",
              " 5.8703569430642935,\n",
              " 7.461588793039849,\n",
              " 6.480856084659494,\n",
              " 3.3494824560108025,\n",
              " 2.5943961819243815,\n",
              " 5.0080660035568245,\n",
              " 3.0775011972234854,\n",
              " 5.837833490143892,\n",
              " 6.488189803139577,\n",
              " 6.515931516110554,\n",
              " 2.512680211790837,\n",
              " 4.434948954478139,\n",
              " 4.511373573618146,\n",
              " 3.0616395713111633,\n",
              " 7.764684924841005,\n",
              " 5.291508878407696,\n",
              " 2.7078087018323296,\n",
              " 4.839135335854676,\n",
              " 6.534181134248252,\n",
              " 1.8543535525647812,\n",
              " 4.058934704030024,\n",
              " 4.678197053533459,\n",
              " 3.4303231008339434,\n",
              " 4.929821842683795,\n",
              " 4.354892576198598,\n",
              " 10.5148060219684,\n",
              " 5.479630849065267,\n",
              " 4.527232869260169,\n",
              " 4.845484438036268,\n",
              " 3.7836512877904678,\n",
              " 5.909031350350993,\n",
              " 4.830362245032917,\n",
              " 9.629828048692518,\n",
              " 2.6116748518657316,\n",
              " 4.556738210003937,\n",
              " 2.804798779415969,\n",
              " 2.6806369373764674,\n",
              " 2.2501955617644795,\n",
              " 6.180693872074355,\n",
              " 3.0121748886982536,\n",
              " 5.402123956583981,\n",
              " 4.54451886344294,\n",
              " 3.7795402929154616,\n",
              " 1.180199996505645,\n",
              " 5.844370642426284,\n",
              " 2.633723040614956,\n",
              " 7.171626486575656,\n",
              " 8.306373826617248,\n",
              " 4.4581398284310465,\n",
              " 5.76734955656929,\n",
              " 5.011777447984789,\n",
              " 3.9562722534413473,\n",
              " 6.711399621727917,\n",
              " 5.642286554239578,\n",
              " 2.5445843113100577,\n",
              " 6.348506892700909,\n",
              " 8.762837395769989,\n",
              " 4.914224531408358,\n",
              " 7.848597872172993,\n",
              " 5.536195676933739,\n",
              " 1.7820738660865527,\n",
              " 8.898107622273564,\n",
              " 4.191268818494158,\n",
              " 3.5722796038889433,\n",
              " 5.816082782900132,\n",
              " 4.152518268789918,\n",
              " 6.475114256369653,\n",
              " 5.328691752030169,\n",
              " 6.32122709313691,\n",
              " 6.609723033645999,\n",
              " 7.183548345803702,\n",
              " 5.633106190588758,\n",
              " 9.654760985806085,\n",
              " 4.012390959925059,\n",
              " 2.801814120140278,\n",
              " 3.6036872343204265,\n",
              " 6.75849602459949,\n",
              " 7.759167706865325,\n",
              " 0.40204910080290723,\n",
              " 6.129965771367199,\n",
              " 11.186808227890895,\n",
              " 1.673911518265113,\n",
              " 4.903541926669691,\n",
              " 4.348144324542863,\n",
              " 7.649179534307315,\n",
              " 2.5533755537966156,\n",
              " 4.225966177731447,\n",
              " 3.15708663896066,\n",
              " 1.6891711328071772,\n",
              " 4.262366115001889,\n",
              " 5.915352313163607,\n",
              " 3.3841980478198392,\n",
              " 3.496218990384591,\n",
              " 6.851169136445129,\n",
              " 7.081033716637686,\n",
              " 5.730283015562682,\n",
              " 2.2059014780513997,\n",
              " 3.5781671082109763,\n",
              " 3.865868764143796,\n",
              " 2.591613159732333,\n",
              " 3.749968499597682,\n",
              " 3.677215802925443,\n",
              " 4.674705350445205,\n",
              " 4.140347760860568,\n",
              " 4.30312773962436,\n",
              " 6.523536121590116,\n",
              " 0.5160220981324244,\n",
              " 2.2966910116271393,\n",
              " 5.464991678818585,\n",
              " 7.309266733431418,\n",
              " 6.356935527507234,\n",
              " 5.75542072848633,\n",
              " 3.2017018451190733,\n",
              " 5.755552971357948,\n",
              " 6.350230912318272,\n",
              " 6.5565364494865355,\n",
              " 3.197335747755381,\n",
              " 2.9602658475977197,\n",
              " 7.592392241820463,\n",
              " 4.095368320168863,\n",
              " 5.062087596669811,\n",
              " 5.2961036761194284,\n",
              " 4.639785109436779,\n",
              " 4.821554578734877,\n",
              " 8.043659867462612,\n",
              " 2.425237060850052,\n",
              " 4.668738702819179,\n",
              " 0.6078295427220564,\n",
              " 0.41904235735183004,\n",
              " 7.355902396280829,\n",
              " 7.379871119216034,\n",
              " 4.010141898183024,\n",
              " 6.406488082185581,\n",
              " 3.515811849361187,\n",
              " 9.793710786080982,\n",
              " 4.848278291001634,\n",
              " 6.159109370073348,\n",
              " 2.6233575496720443,\n",
              " 2.4690578774087304,\n",
              " 7.898344974659887,\n",
              " 7.734546832599216,\n",
              " 0.24602952501158537,\n",
              " 3.502371885650485,\n",
              " 8.108618379420616,\n",
              " 6.34953884460386,\n",
              " 8.024821099476144,\n",
              " 2.9616406461704883,\n",
              " 4.048794763290974,\n",
              " 5.188372878168564,\n",
              " 4.366469186029878,\n",
              " 9.699915903355347,\n",
              " 5.862791435209626,\n",
              " 6.600193534758073,\n",
              " 4.599801234169526,\n",
              " 5.757248648072663,\n",
              " 5.954632968986461,\n",
              " 2.242288951132389,\n",
              " 4.2130634389522585,\n",
              " 4.7377275158558945,\n",
              " 4.083890100103232,\n",
              " 6.994725216825913,\n",
              " 4.165201610653248,\n",
              " 1.566640078709741,\n",
              " 1.317742761280793,\n",
              " 4.729402054021913,\n",
              " 4.7754573542546455,\n",
              " 4.557478233694765,\n",
              " 6.999360898860492,\n",
              " 4.591312483042733,\n",
              " 4.0008682501275565,\n",
              " 8.075754575453914,\n",
              " 8.715358464395656,\n",
              " 4.7840457558029605,\n",
              " 3.674285347944016,\n",
              " 4.742795353530955,\n",
              " 5.066594255797349,\n",
              " 3.6203578919710644,\n",
              " 6.30414023043313,\n",
              " 5.036057534401238,\n",
              " 5.514260729145735,\n",
              " 6.667796590258488,\n",
              " 5.401135451649722,\n",
              " 6.4687108748428965,\n",
              " 5.322622495137822,\n",
              " 7.164918056846965,\n",
              " 9.68438548169295,\n",
              " 2.5942661370657003,\n",
              " 6.153311698929942,\n",
              " -0.36028315448090265,\n",
              " 7.0947391426130775,\n",
              " 3.722874455397047,\n",
              " 2.2013223146492353,\n",
              " 8.732161739837878,\n",
              " 3.203177636036286,\n",
              " 6.126754424675757,\n",
              " 6.7293159756497785,\n",
              " 7.185466154765131,\n",
              " 5.678432898421412,\n",
              " 6.988468338682312,\n",
              " 5.998934727944334,\n",
              " 1.3809955623048191,\n",
              " 4.94944352835,\n",
              " 5.326110503309169,\n",
              " 1.6919647496387022,\n",
              " 5.6017707804026795,\n",
              " 5.269822298889233,\n",
              " 4.221199723981058,\n",
              " 6.048328358821939,\n",
              " 6.952552844019532,\n",
              " 4.76954155742784,\n",
              " 5.980121276842581,\n",
              " 5.618158520734755,\n",
              " 6.044659721835709,\n",
              " 3.191572897483187,\n",
              " 5.835518850360625,\n",
              " 4.980903736259891,\n",
              " 3.223082509409373,\n",
              " 2.0954891895371603,\n",
              " 2.6093578851372206,\n",
              " 6.8626460037820705,\n",
              " 4.669130203975027,\n",
              " 4.123832394353912,\n",
              " 6.440234832148629,\n",
              " 7.658204497384892,\n",
              " 3.5044613160776805,\n",
              " 5.915228446244803,\n",
              " 0.16269277745540744,\n",
              " 4.737083957336999,\n",
              " 4.382004078035669,\n",
              " 5.827177360894721,\n",
              " 4.467115780141931,\n",
              " 3.3526921764336093,\n",
              " 4.808806179887073,\n",
              " 5.552349967258205,\n",
              " 6.3283939895377435,\n",
              " 10.130673002138412,\n",
              " 2.3462878861635312,\n",
              " 4.697495592155311,\n",
              " 5.160253990949995,\n",
              " 7.00953746527434,\n",
              " 5.681084903153969,\n",
              " 8.713930015088355,\n",
              " 8.258659227110712,\n",
              " 5.638790975793995,\n",
              " 10.030948267965393,\n",
              " 6.0652442559863395,\n",
              " 7.6701976566276775,\n",
              " 4.053263842488593,\n",
              " 2.983627751757764,\n",
              " 3.3429342954672543,\n",
              " 9.690810508825471,\n",
              " 2.2537952491521613,\n",
              " 6.1965472848625485,\n",
              " 5.021225031047536,\n",
              " 3.519757925169878,\n",
              " 4.735938997885432,\n",
              " 8.695908581174539,\n",
              " 3.7213097835250517,\n",
              " 3.696806356785523,\n",
              " 5.998978060507035,\n",
              " 2.017066812116458,\n",
              " 3.959281935701715,\n",
              " 5.2743891852665215,\n",
              " 4.918344759552223,\n",
              " 6.634619185292803,\n",
              " 9.174360911636581,\n",
              " 7.59586874206933,\n",
              " 6.278854308642959,\n",
              " 1.8322701956203868,\n",
              " 6.612569492215662,\n",
              " 5.149810414041178,\n",
              " 3.829037532948763,\n",
              " 7.155239348377085,\n",
              " 6.276698068845994,\n",
              " 4.028647597253845,\n",
              " 4.6130963808436185,\n",
              " 3.6811943804981313,\n",
              " 4.721427064904466,\n",
              " 0.7600156497771149,\n",
              " 4.628389380291424,\n",
              " 3.7907482437296522,\n",
              " 3.0073165204665218,\n",
              " 8.7386161307243,\n",
              " 5.530981694831223,\n",
              " 5.460992028710655,\n",
              " 6.871064750773235,\n",
              " ...]"
            ]
          },
          "execution_count": 82,
          "metadata": {},
          "output_type": "execute_result"
        }
      ],
      "source": [
        "q19"
      ]
    },
    {
      "cell_type": "code",
      "execution_count": 83,
      "metadata": {},
      "outputs": [],
      "source": [
        "# YOUR CHANGES HERE\n",
        "\n",
        "# estimate the 90th percentile from the sample\n",
        "p19 = np.percentile(q19,90)"
      ]
    },
    {
      "cell_type": "code",
      "execution_count": 84,
      "metadata": {},
      "outputs": [
        {
          "data": {
            "text/plain": [
              "np.float64(7.645380691576366)"
            ]
          },
          "execution_count": 84,
          "metadata": {},
          "output_type": "execute_result"
        }
      ],
      "source": [
        "p19"
      ]
    },
    {
      "cell_type": "markdown",
      "metadata": {
        "id": "xxm1beScIboi"
      },
      "source": [
        "### Problem 20\n",
        "\n",
        "The data in `q20x` was generated by sampling uniformly at random between zero and two.\n",
        "The data in `q20y` was calculated as $2x + 1$ plus random noise where $x$ is the corresponding value in `q20x`.\n",
        "\n",
        "Build a linear model from `q20x` and `q20y` and set `p20` to coefficient for $x$ in that model.\n",
        "(`p20` should be close to 2, but will be slightly different due to the noise.)"
      ]
    },
    {
      "cell_type": "code",
      "execution_count": 85,
      "metadata": {},
      "outputs": [],
      "source": [
        "# DO NOT CHANGE\n",
        "\n",
        "q20x = [0.45542456, 0.5619655 , 1.98673764, 0.39494011, 1.03570131,\n",
        "       1.07975325, 1.51760232, 0.47180573, 0.38067669, 1.84629125]"
      ]
    },
    {
      "cell_type": "code",
      "execution_count": 86,
      "metadata": {},
      "outputs": [],
      "source": [
        "q20y = [0.9971621588157146, 2.5735616651097155, 4.973783648588769, 1.1067983025124097,\n",
        "         1.8254939098719511, 2.998556629834516, 5.176024170423844, 1.3041595788930969,\n",
        "           2.939895587626184, 4.865269147180646]"
      ]
    },
    {
      "cell_type": "code",
      "execution_count": 91,
      "metadata": {},
      "outputs": [],
      "source": [
        "# YOUR CHANGES HERE\n",
        "\n",
        "from sklearn import linear_model\n",
        "\n",
        "regression = linear_model.LinearRegression()\n",
        "\n",
        "q20x = np.array(q20x).reshape(len(q20x), 1)\n",
        "\n",
        "regression.fit(q20x,q20y)\n",
        "\n",
        "p20 = regression.coef_[0]"
      ]
    },
    {
      "cell_type": "code",
      "execution_count": 92,
      "metadata": {},
      "outputs": [
        {
          "data": {
            "text/plain": [
              "np.float64(2.282723314854034)"
            ]
          },
          "execution_count": 92,
          "metadata": {},
          "output_type": "execute_result"
        }
      ],
      "source": [
        "p20"
      ]
    },
    {
      "cell_type": "markdown",
      "metadata": {},
      "source": [
        "### Generative AI Usage\n",
        "\n",
        "If you used any generative AI tools, please add links to your transcripts below, and any other information that you feel is necessary to comply with the [generative AI policy](https://www.bu.edu/cds-faculty/culture-community/gaia-policy/).\n",
        "If you did not use any generative AI tools, simply write NONE below."
      ]
    },
    {
      "cell_type": "markdown",
      "metadata": {},
      "source": [
        "NONE"
      ]
    }
  ],
  "metadata": {
    "colab": {
      "toc_visible": false
    },
    "kernelspec": {
      "display_name": "Python 3",
      "name": "python3"
    },
    "language_info": {
      "codemirror_mode": {
        "name": "ipython",
        "version": 3
      },
      "file_extension": ".py",
      "mimetype": "text/x-python",
      "name": "python",
      "nbconvert_exporter": "python",
      "pygments_lexer": "ipython3",
      "version": "3.12.1"
    }
  },
  "nbformat": 4,
  "nbformat_minor": 0
}
